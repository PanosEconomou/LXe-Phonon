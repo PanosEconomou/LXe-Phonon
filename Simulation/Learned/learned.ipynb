{
 "metadata": {
  "language_info": {
   "codemirror_mode": {
    "name": "ipython",
    "version": 3
   },
   "file_extension": ".py",
   "mimetype": "text/x-python",
   "name": "python",
   "nbconvert_exporter": "python",
   "pygments_lexer": "ipython3",
   "version": "3.6.5-final"
  },
  "orig_nbformat": 2,
  "kernelspec": {
   "name": "python3",
   "display_name": "Python 3",
   "language": "python"
  }
 },
 "nbformat": 4,
 "nbformat_minor": 2,
 "cells": [
  {
   "source": [
    "# Analytically solving the pressure wave equation\n",
    "\n",
    "Here we use the method described by John Learned in his paper about *[Acoustic Radiation due to Charged Particles](https://journals.aps.org/prd/abstract/10.1103/PhysRevD.19.3293)*. This method requires solving for the attenuation of a wave based on its original distribution, and then approximating the original distribution based on the unatenuated term.\n",
    "\n",
    "\n",
    "Specifically, we initially find a solution to the following equation in fourier space. The pressure is given as a function $p(\\vec{x},t)$ where: $p : \\mathbb{R}^3 \\times \\mathbb{R}^+ \\rightarrow \\mathbb{R}$\n",
    "\n",
    "$$\n",
    "\\Delta \\left(p -\\frac{1}{\\omega_0} p_t \\right) - \\frac{1}{c^2} p_{tt} = 0\n",
    "$$\n",
    "\n",
    "Now we define the following fourier transform $\\hat{p}(\\vec{x},\\omega)$ of $p(\\vec{x},\\omega)$.\n",
    "\n",
    "$$\n",
    "\\hat{p}(\\vec{x},\\omega) = \\int_{\\mathbb{R}} p(\\vec{x},t) e^{-i\\omega t} dt\n",
    "$$\n",
    "\n",
    "Therefore applything the fourier transform to both sides of the equation we obtain:\n",
    "\n",
    "$$\n",
    "\\left( 1 + i\\frac{\\omega}{\\omega_0} \\right) \\Delta \\hat{p}(\\vec{x},\\omega) + \\frac{\\omega^2}{c^2} \\hat{p}(\\vec{x},t) = 0\n",
    "$$\n",
    "\n",
    "Which we can reqrite as:\n",
    "\n",
    "$$\n",
    "\\Delta \\hat{p}(\\vec{x},\\omega) + k^2 \\hat{p}(\\vec{x},t) = 0\n",
    "$$\n",
    "\n",
    "where $k$ is:\n",
    "\n",
    "$$ k = \\pm \\frac{\\omega}{c^2} \\frac{1}{\\sqrt{1+i\\frac{\\omega}{\\omega_0}}}$$\n",
    "\n",
    "Now we can assume $\\hat{p}(\\vec{x},\\omega) = \\hat{p}(|\\vec{x}|,\\omega) = \\hat{p}(r,\\omega)$. With this we can introduce the parameterisation of $\\hat{p}$ as $\\hat{p}(r,\\omega) = \\hat{p}_r(r,\\omega)/r$. Therefore we can reqrite our original equation now in spherical coordinates like so:\n",
    "\n",
    "$$\n",
    "\\frac{1}{r} \\frac{\\partial^2 \\hat{p}_r}{\\partial r^2} + \\frac{k^2}{r} \\hat{p}_r = 0\n",
    "$$\n",
    "\n",
    "This is a very simple ODE wich we can solve by:\n",
    "\n",
    "$$\n",
    "\\hat{p}(r,\\omega) = \\frac{1}{r} \\hat{p}_0(\\omega) e^{-i k r} \n",
    "$$\n",
    "\n",
    "Now given the initial pulse ar around time-space 0 we can figure out how it evolves over time. To do that we solve the non-viscous wave equation for a particular heat distribution obtain $\\hat{p}_0$ and then substitude it in the solution above. Doing so we will obtain that for a gaussian source of heat we get the following fourier spectrum for the pulse.\n",
    "\n",
    "$$\n",
    "\\hat{p}(r,\\omega) = i \\frac{\\beta E_0}{4\\pi r C_p}\\omega \\exp{\\left(i\\frac{\\omega r}{c} + \\frac{\\omega^2 r}{2 \\omega_0 c} + \\frac{\\sigma^2 \\omega^2}{2}\\right)}\n",
    "$$\n",
    "\n",
    "Now we use fourier's identity to obtain the time dependent version of the equation.\n",
    "\n",
    "$$\n",
    "{p}(r,t) = - \\frac{\\beta E_0}{4\\pi r C_p} \\frac{ct - r}{\\sqrt{2\\pi c^2} \\left(\\sigma^2 + \\frac{r}{\\omega_0 c}\\right)^{\\frac{3}{2}} }  \\exp{\\left(- \\frac{(ct - r)^2}{2c^2 \\sigma^2 + \\frac{rc}{\\omega_0}}\\right)}\n",
    "$$\n",
    "\n",
    "Now let's plot!"
   ],
   "cell_type": "markdown",
   "metadata": {}
  },
  {
   "cell_type": "code",
   "execution_count": 12,
   "metadata": {},
   "outputs": [],
   "source": [
    "#import relevant libraries\n",
    "import numpy as np\n",
    "import scipy.constants as const\n",
    "import matplotlib.pyplot as plt\n",
    "from mpl_toolkits.mplot3d import Axes3D\n",
    "import ipywidgets as widgets\n",
    "from tqdm import tqdm\n",
    "\n",
    "# if this doesn't work run: \"python3 -m pip install ipympl\" \n",
    "# or just comment it out and learn to live without sliders on the graphs\n",
    "%matplotlib widget\n",
    "\n",
    "\n",
    "# Define the relevant constants in SI units\n",
    "beta    = 4.65e-3\n",
    "E_0     = 2*1e6*const.eV\n",
    "C_p     = 338.48\n",
    "c       = 653.47\n",
    "w_0     = 1.2667e+9/1.70e-2\n",
    "sigma   = (2.1801714e-25/2966.3)**(1/3)\n",
    "rho     = 2966.3\n",
    "\n",
    "# Units\n",
    "m   = 1\n",
    "mm  = 1e+3\n",
    "s   = 1\n",
    "ms  = 1e+3\n",
    "us  = 1e+6\n",
    "\n",
    "\n",
    "# Function for the radial pressure wave due to a point source\n",
    "def p(r, t, E_0=E_0, beta=beta, C_p=C_p, c=c, w_0=w_0, sigma=sigma):\n",
    "    if r < 0:\n",
    "        r = - r\n",
    "    \n",
    "    if r == 0:\n",
    "        return 0\n",
    "    \n",
    "    return -beta*E_0*(c*t - r)/(4*np.pi*C_p* (2*np.pi*c**2)**0.5 * (sigma**2 + r/(w_0*c)))* np.exp(-(c*t-r)**2/(2*c**2*sigma**2+(r*c)/(w_0)))\n"
   ]
  },
  {
   "cell_type": "code",
   "execution_count": 13,
   "metadata": {},
   "outputs": [
    {
     "output_type": "display_data",
     "data": {
      "text/plain": "Canvas(toolbar=Toolbar(toolitems=[('Home', 'Reset original view', 'home', 'home'), ('Back', 'Back to  previous…",
      "application/vnd.jupyter.widget-view+json": {
       "version_major": 2,
       "version_minor": 0,
       "model_id": "a978f933afb84e42b14e185968b7ed2e"
      }
     },
     "metadata": {}
    },
    {
     "output_type": "display_data",
     "data": {
      "text/plain": "interactive(children=(FloatSlider(value=7.651460663840727e-07, description='t', max=0.015302921327681454, step…",
      "application/vnd.jupyter.widget-view+json": {
       "version_major": 2,
       "version_minor": 0,
       "model_id": "2f9dbb68b7524fde907ed56860a2e970"
      }
     },
     "metadata": {}
    },
    {
     "output_type": "stream",
     "name": "stderr",
     "text": [
      "100%|██████████| 100/100 [00:03<00:00, 29.87it/s]\n"
     ]
    },
    {
     "output_type": "execute_result",
     "data": {
      "text/plain": [
       "[<matplotlib.lines.Line2D at 0x7f27f0890860>]"
      ]
     },
     "metadata": {},
     "execution_count": 13
    }
   ],
   "source": [
    "# Plot the point source sound wave as a function of spacetime\n",
    "\n",
    "# Set up the plot\n",
    "fig = plt.figure(figsize=(9,10))\n",
    "fig.suptitle(\"Pressure due to point source in Liquid Xenon\")\n",
    "ax = fig.add_subplot(211)\n",
    "ax.set_title('Pressure VS Radial Distance')\n",
    "\n",
    "r_unit = mm\n",
    "t_unit = us\n",
    "\n",
    "r_min = 0\n",
    "r_max = 1e-3\n",
    "t_min = 0\n",
    "t_max = abs(r_max-r_min)/c\n",
    "Npts = 1000\n",
    "\n",
    "ax.set_xlim([r_min*r_unit, r_max*r_unit])\n",
    "ax.set_ylabel(r'$p(r,t)\\ [Pa]$',fontsize = 15)\n",
    "ax.set_xlabel(r'$r\\ [mm]$',fontsize = 15)\n",
    "ax.grid(True)\n",
    "\n",
    "# Generate x-y values\n",
    "R = np.linspace(r_min,r_max,Npts)\n",
    "def p_vect(R, t, E_0=E_0, beta=beta, C_p=C_p, c=c, w_0=w_0, sigma=sigma):\n",
    "    return np.array([p(r, t, E_0=E_0, beta=beta, C_p=C_p, c=c, w_0=w_0, sigma=sigma) for r in R])\n",
    "\n",
    "# Add the sliders\n",
    "scale = 1e4\n",
    "@widgets.interact(t=(t_min*scale, t_max*scale, abs(t_min-t_max)*1e-4*scale), Npts=(100,10000, 1))\n",
    "def update(t=(t_max-t_min)/2, Npts=1000):\n",
    "    [l.remove() for l in ax.lines]\n",
    "    R = np.linspace(r_min,r_max,Npts)\n",
    "    P = p_vect(R,t/scale)\n",
    "    ax.plot(R*r_unit, P, color='C3',label=r'$t = %3.2e\\ s$ '%(t/scale)+\"\\n\"+'$p_{max} = %3.2e\\ Pa$'%(max(P)))\n",
    "    ax.legend()\n",
    "\n",
    "# Add the plot of Maximum Power over time\n",
    "ax2 = fig.add_subplot(212)\n",
    "ax2.set_xlim([t_min*t_unit, t_max*t_unit])\n",
    "ax2.set_ylabel(r'$p(r,t)\\ [Pa]$',fontsize = 15)\n",
    "ax2.set_xlabel(r'$t\\ [\\mu s]$',fontsize = 15)\n",
    "ax2.grid(True)\n",
    "\n",
    "T = np.linspace(t_min,t_max,int(1e+2))\n",
    "R = np.linspace(r_min,r_max,int(8e+3))\n",
    "P_t = [max(p_vect(R,t)) for t in tqdm(T)]\n",
    "ax2.plot(T*t_unit, P_t, color='C9')"
   ]
  },
  {
   "cell_type": "code",
   "execution_count": null,
   "metadata": {},
   "outputs": [],
   "source": []
  }
 ]
}